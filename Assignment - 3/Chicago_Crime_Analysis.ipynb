{
  "nbformat": 4,
  "nbformat_minor": 0,
  "metadata": {
    "colab": {
      "provenance": []
    },
    "kernelspec": {
      "name": "python3",
      "display_name": "Python 3"
    },
    "language_info": {
      "name": "python"
    }
  },
  "cells": [
    {
      "cell_type": "markdown",
      "source": [
        "Importing all necessary libraries."
      ],
      "metadata": {
        "id": "X4_9dELJ1T9z"
      }
    },
    {
      "cell_type": "code",
      "source": [
        "import requests\n",
        "import pandas as pd\n",
        "from pyspark.sql import SparkSession\n",
        "from pyspark.sql.types import StructType, StructField, StringType, IntegerType, DoubleType, TimestampType\n",
        "from pyspark.sql.functions import col, to_timestamp, year, when, hour, count\n",
        "import matplotlib.pyplot as plt"
      ],
      "metadata": {
        "id": "J-MvTk1I2_WB"
      },
      "execution_count": 1,
      "outputs": []
    },
    {
      "cell_type": "markdown",
      "source": [
        "Now, defining the URL for large dataset and fetching the crime data from API"
      ],
      "metadata": {
        "id": "NjFKH8Q11ZxV"
      }
    },
    {
      "cell_type": "code",
      "source": [
        "# Defining the API URL for a large dataset, limited to 1 million rows\n",
        "url = \"https://data.cityofchicago.org/resource/ijzp-q8t2.json?$limit=1000000\""
      ],
      "metadata": {
        "id": "VtkPH09h3F9G"
      },
      "execution_count": 2,
      "outputs": []
    },
    {
      "cell_type": "code",
      "source": [
        "# Fetching Crime data from the API\n",
        "response = requests.get(url)\n",
        "if response.status_code == 200:\n",
        "    # Converting JSON data to Pandas DataFrame\n",
        "    data = response.json()\n",
        "    df = pd.DataFrame(data)\n",
        "\n",
        "    # Saving the DataFrame to CSV\n",
        "    csv_path = \"chicago_crimes.csv\"\n",
        "    df.to_csv(csv_path, index=False)\n",
        "    print(\"Data saved to chicago_crimes.csv\")\n",
        "else:\n",
        "    print(f\"Failed to fetch data. Status code: {response.status_code}\")"
      ],
      "metadata": {
        "colab": {
          "base_uri": "https://localhost:8080/"
        },
        "id": "jNhlckI63YvG",
        "outputId": "befbedb0-ae92-482e-af33-2d68f39dce8b"
      },
      "execution_count": 3,
      "outputs": [
        {
          "output_type": "stream",
          "name": "stdout",
          "text": [
            "Data saved to chicago_crimes.csv\n"
          ]
        }
      ]
    },
    {
      "cell_type": "markdown",
      "source": [
        "**CREATING THE SPARK SESSION.**"
      ],
      "metadata": {
        "id": "R45r1ApA1mEJ"
      }
    },
    {
      "cell_type": "code",
      "source": [
        "# Spark session\n",
        "\n",
        "spark = SparkSession.builder \\\n",
        "    .appName(\"ChicagoCrimeAnalysis\") \\\n",
        "    .getOrCreate()"
      ],
      "metadata": {
        "id": "57cBf4xr3Z5_"
      },
      "execution_count": 4,
      "outputs": []
    },
    {
      "cell_type": "markdown",
      "source": [
        "DEFINING THE SCHEMA FOR LOADING THE DATASET"
      ],
      "metadata": {
        "id": "w7Do0t4O1q6f"
      }
    },
    {
      "cell_type": "code",
      "source": [
        "# Schema for the dataset\n",
        "\n",
        "schema = StructType([\n",
        "    StructField(\"id\", StringType(), True),\n",
        "    StructField(\"case_number\", StringType(), True),\n",
        "    StructField(\"date\", StringType(), True),\n",
        "    StructField(\"block\", StringType(), True),\n",
        "    StructField(\"iucr\", StringType(), True),\n",
        "    StructField(\"primary_type\", StringType(), True),\n",
        "    StructField(\"description\", StringType(), True),\n",
        "    StructField(\"location_description\", StringType(), True),\n",
        "    StructField(\"arrest\", StringType(), True),\n",
        "    StructField(\"domestic\", StringType(), True),\n",
        "    StructField(\"beat\", StringType(), True),\n",
        "    StructField(\"district\", StringType(), True),\n",
        "    StructField(\"ward\", StringType(), True),\n",
        "    StructField(\"community_area\", StringType(), True),\n",
        "    StructField(\"fbi_code\", StringType(), True),\n",
        "    StructField(\"x_coordinate\", DoubleType(), True),\n",
        "    StructField(\"y_coordinate\", DoubleType(), True),\n",
        "    StructField(\"year\", IntegerType(), True),\n",
        "    StructField(\"updated_on\", StringType(), True),\n",
        "    StructField(\"latitude\", DoubleType(), True),\n",
        "    StructField(\"longitude\", DoubleType(), True),\n",
        "    StructField(\"location\", StringType(), True)\n",
        "])"
      ],
      "metadata": {
        "id": "UJPXl0zg4itm"
      },
      "execution_count": 5,
      "outputs": []
    },
    {
      "cell_type": "markdown",
      "source": [
        "**LOAD THE CRIME DATA.**"
      ],
      "metadata": {
        "id": "z6NjCZro8Fch"
      }
    },
    {
      "cell_type": "code",
      "source": [
        "# Loading the data into Spark DataFrame\n",
        "\n",
        "spark_df = spark.read.csv(\"chicago_crimes.csv\", header=True, inferSchema=True)\n",
        "\n",
        "# Checking the number of rows and display some records\n",
        "print(f\"Spark DataFrame shape: {spark_df.count()} rows\")\n",
        "spark_df.show(5)\n"
      ],
      "metadata": {
        "colab": {
          "base_uri": "https://localhost:8080/"
        },
        "id": "M5OmNrug49sZ",
        "outputId": "f845b886-667d-4c87-e70b-d6d583e4ea61"
      },
      "execution_count": 6,
      "outputs": [
        {
          "output_type": "stream",
          "name": "stdout",
          "text": [
            "Spark DataFrame shape: 1000000 rows\n",
            "+--------+-----------+-------------------+-------------------+----+--------------------+--------------------+--------------------+------+--------+----+--------+----+--------------+--------+------------+------------+----+-------------------+------------+-------------+--------------------+---------------------------+---------------------------+---------------------------+---------------------------+---------------------------+---------------------------+---------------------------+---------------------------+---------------------------+\n",
            "|      id|case_number|               date|              block|iucr|        primary_type|         description|location_description|arrest|domestic|beat|district|ward|community_area|fbi_code|x_coordinate|y_coordinate|year|         updated_on|    latitude|    longitude|            location|:@computed_region_awaf_s7ux|:@computed_region_6mkv_f3dw|:@computed_region_vrxf_vc4k|:@computed_region_bdys_3d7i|:@computed_region_43wa_7qmu|:@computed_region_rpca_8um6|:@computed_region_d9mm_jgwp|:@computed_region_d3ds_rm58|:@computed_region_8hcu_yrd4|\n",
            "+--------+-----------+-------------------+-------------------+----+--------------------+--------------------+--------------------+------+--------+----+--------+----+--------------+--------+------------+------------+----+-------------------+------------+-------------+--------------------+---------------------------+---------------------------+---------------------------+---------------------------+---------------------------+---------------------------+---------------------------+---------------------------+---------------------------+\n",
            "|13644109|   JH484519|2024-10-22 00:00:00|    001XX E OHIO ST|0281|CRIMINAL SEXUAL A...|      NON-AGGRAVATED|           RESIDENCE| false|   false|1834|      18|  42|             8|      02|     1177530|     1904238|2024|2024-10-29 15:41:42|41.892559086|-87.623450463|\"{'latitude': '41...|             \"\"city\"\": \"\"\"\"|            \"\"state\"\": \"\"\"\"|          \"\"zip\"\": \"\"\"\"}'}\"|                         22|                      21182|                         37|                        159|                         36|                          6|\n",
            "|13639174|   JH478505|2024-10-22 00:00:00|   023XX W 111TH ST|0430|             BATTERY|AGGRAVATED - OTHE...|           APARTMENT|  true|   false|2212|      22|  19|            75|     04B|     1162760|     1830957|2024|2024-10-29 15:41:42|41.691789124|-87.679740557|\"{'latitude': '41...|             \"\"city\"\": \"\"\"\"|            \"\"state\"\": \"\"\"\"|          \"\"zip\"\": \"\"\"\"}'}\"|                         33|                      22212|                         74|                        378|                         42|                         13|\n",
            "|13639234|   JH478696|2024-10-22 00:00:00|030XX N KOSTNER AVE|0710|               THEFT|THEFT FROM MOTOR ...|VEHICLE NON-COMME...| false|   false|2523|      25|  31|            20|      06|     1146517|     1919929|2024|2024-10-29 15:41:42|41.936264375|-87.736948426|\"{'latitude': '41...|             \"\"city\"\": \"\"\"\"|            \"\"state\"\": \"\"\"\"|          \"\"zip\"\": \"\"\"\"}'}\"|                          7|                      22618|                         21|                        411|                         17|                         21|\n",
            "|13639540|   JH478936|2024-10-22 00:00:00| 117XX S NORMAL AVE|0486|             BATTERY|DOMESTIC BATTERY ...|           RESIDENCE| false|    true| 522|       5|  21|            53|     08B|     1175077|     1827048|2024|2024-10-29 15:41:42|41.680796916|-87.634762525|\"{'latitude': '41...|             \"\"city\"\": \"\"\"\"|            \"\"state\"\": \"\"\"\"|          \"\"zip\"\": \"\"\"\"}'}\"|                         45|                      21861|                         50|                        255|                         22|                         19|\n",
            "|13639740|   JH478909|2024-10-22 00:00:00|    001XX W ERIE ST|0910| MOTOR VEHICLE THEFT|          AUTOMOBILE|              STREET| false|   false|1832|      18|  42|             8|      07|     1174905|     1904743|2024|2024-10-29 15:41:42|41.894004024|-87.633075782|\"{'latitude': '41...|             \"\"city\"\": \"\"\"\"|            \"\"state\"\": \"\"\"\"|          \"\"zip\"\": \"\"\"\"}'}\"|                         22|                       4446|                         37|                        670|                         36|                         55|\n",
            "+--------+-----------+-------------------+-------------------+----+--------------------+--------------------+--------------------+------+--------+----+--------+----+--------------+--------+------------+------------+----+-------------------+------------+-------------+--------------------+---------------------------+---------------------------+---------------------------+---------------------------+---------------------------+---------------------------+---------------------------+---------------------------+---------------------------+\n",
            "only showing top 5 rows\n",
            "\n"
          ]
        }
      ]
    },
    {
      "cell_type": "markdown",
      "source": [
        "**CLEANING THE DATA:**"
      ],
      "metadata": {
        "id": "J_illbZQ8J8U"
      }
    },
    {
      "cell_type": "markdown",
      "source": [
        "Remove all null values"
      ],
      "metadata": {
        "id": "tc7jrG-P8US9"
      }
    },
    {
      "cell_type": "code",
      "source": [
        "# Counting the null values\n",
        "null_counts = spark_df.select([count(when(col(c).isNull(), c)).alias(c) for c in spark_df.columns])\n",
        "null_counts.show()"
      ],
      "metadata": {
        "colab": {
          "base_uri": "https://localhost:8080/"
        },
        "id": "QYQD72G35k5B",
        "outputId": "524d69d4-e26b-4b8f-f923-9baa2a9cee80"
      },
      "execution_count": 7,
      "outputs": [
        {
          "output_type": "stream",
          "name": "stdout",
          "text": [
            "+---+-----------+----+-----+----+------------+-----------+--------------------+------+--------+----+--------+----+--------------+--------+------------+------------+----+----------+--------+---------+--------+---------------------------+---------------------------+---------------------------+---------------------------+---------------------------+---------------------------+---------------------------+---------------------------+---------------------------+\n",
            "| id|case_number|date|block|iucr|primary_type|description|location_description|arrest|domestic|beat|district|ward|community_area|fbi_code|x_coordinate|y_coordinate|year|updated_on|latitude|longitude|location|:@computed_region_awaf_s7ux|:@computed_region_6mkv_f3dw|:@computed_region_vrxf_vc4k|:@computed_region_bdys_3d7i|:@computed_region_43wa_7qmu|:@computed_region_rpca_8um6|:@computed_region_d9mm_jgwp|:@computed_region_d3ds_rm58|:@computed_region_8hcu_yrd4|\n",
            "+---+-----------+----+-----+----+------------+-----------+--------------------+------+--------+----+--------+----+--------------+--------+------------+------------+----+----------+--------+---------+--------+---------------------------+---------------------------+---------------------------+---------------------------+---------------------------+---------------------------+---------------------------+---------------------------+---------------------------+\n",
            "|  0|          0|   0|    0|   0|           0|          0|                5135|     0|       0|   0|       0|  28|             1|       0|       14228|       14228|   0|         0|   14228|    14228|   14228|                      14228|                      14228|                      14228|                      17905|                      14228|                      17416|                      17610|                      17407|                      17412|\n",
            "+---+-----------+----+-----+----+------------+-----------+--------------------+------+--------+----+--------+----+--------------+--------+------------+------------+----+----------+--------+---------+--------+---------------------------+---------------------------+---------------------------+---------------------------+---------------------------+---------------------------+---------------------------+---------------------------+---------------------------+\n",
            "\n"
          ]
        }
      ]
    },
    {
      "cell_type": "code",
      "source": [
        "# Removing rows with null values\n",
        "spark_df_cleaned = spark_df.dropna()\n",
        "print(f\"After removing nulls: {spark_df_cleaned.count()} rows\")\n",
        "spark_df_cleaned.show(5)"
      ],
      "metadata": {
        "colab": {
          "base_uri": "https://localhost:8080/"
        },
        "id": "0EZai-RR7kVd",
        "outputId": "4945c84f-58b2-4eaf-e770-c4f1ba29fdb0"
      },
      "execution_count": 8,
      "outputs": [
        {
          "output_type": "stream",
          "name": "stdout",
          "text": [
            "After removing nulls: 976264 rows\n",
            "+--------+-----------+-------------------+-------------------+----+--------------------+--------------------+--------------------+------+--------+----+--------+----+--------------+--------+------------+------------+----+-------------------+------------+-------------+--------------------+---------------------------+---------------------------+---------------------------+---------------------------+---------------------------+---------------------------+---------------------------+---------------------------+---------------------------+\n",
            "|      id|case_number|               date|              block|iucr|        primary_type|         description|location_description|arrest|domestic|beat|district|ward|community_area|fbi_code|x_coordinate|y_coordinate|year|         updated_on|    latitude|    longitude|            location|:@computed_region_awaf_s7ux|:@computed_region_6mkv_f3dw|:@computed_region_vrxf_vc4k|:@computed_region_bdys_3d7i|:@computed_region_43wa_7qmu|:@computed_region_rpca_8um6|:@computed_region_d9mm_jgwp|:@computed_region_d3ds_rm58|:@computed_region_8hcu_yrd4|\n",
            "+--------+-----------+-------------------+-------------------+----+--------------------+--------------------+--------------------+------+--------+----+--------+----+--------------+--------+------------+------------+----+-------------------+------------+-------------+--------------------+---------------------------+---------------------------+---------------------------+---------------------------+---------------------------+---------------------------+---------------------------+---------------------------+---------------------------+\n",
            "|13644109|   JH484519|2024-10-22 00:00:00|    001XX E OHIO ST|0281|CRIMINAL SEXUAL A...|      NON-AGGRAVATED|           RESIDENCE| false|   false|1834|      18|  42|             8|      02|     1177530|     1904238|2024|2024-10-29 15:41:42|41.892559086|-87.623450463|\"{'latitude': '41...|             \"\"city\"\": \"\"\"\"|            \"\"state\"\": \"\"\"\"|          \"\"zip\"\": \"\"\"\"}'}\"|                         22|                      21182|                         37|                        159|                         36|                          6|\n",
            "|13639174|   JH478505|2024-10-22 00:00:00|   023XX W 111TH ST|0430|             BATTERY|AGGRAVATED - OTHE...|           APARTMENT|  true|   false|2212|      22|  19|            75|     04B|     1162760|     1830957|2024|2024-10-29 15:41:42|41.691789124|-87.679740557|\"{'latitude': '41...|             \"\"city\"\": \"\"\"\"|            \"\"state\"\": \"\"\"\"|          \"\"zip\"\": \"\"\"\"}'}\"|                         33|                      22212|                         74|                        378|                         42|                         13|\n",
            "|13639234|   JH478696|2024-10-22 00:00:00|030XX N KOSTNER AVE|0710|               THEFT|THEFT FROM MOTOR ...|VEHICLE NON-COMME...| false|   false|2523|      25|  31|            20|      06|     1146517|     1919929|2024|2024-10-29 15:41:42|41.936264375|-87.736948426|\"{'latitude': '41...|             \"\"city\"\": \"\"\"\"|            \"\"state\"\": \"\"\"\"|          \"\"zip\"\": \"\"\"\"}'}\"|                          7|                      22618|                         21|                        411|                         17|                         21|\n",
            "|13639540|   JH478936|2024-10-22 00:00:00| 117XX S NORMAL AVE|0486|             BATTERY|DOMESTIC BATTERY ...|           RESIDENCE| false|    true| 522|       5|  21|            53|     08B|     1175077|     1827048|2024|2024-10-29 15:41:42|41.680796916|-87.634762525|\"{'latitude': '41...|             \"\"city\"\": \"\"\"\"|            \"\"state\"\": \"\"\"\"|          \"\"zip\"\": \"\"\"\"}'}\"|                         45|                      21861|                         50|                        255|                         22|                         19|\n",
            "|13639740|   JH478909|2024-10-22 00:00:00|    001XX W ERIE ST|0910| MOTOR VEHICLE THEFT|          AUTOMOBILE|              STREET| false|   false|1832|      18|  42|             8|      07|     1174905|     1904743|2024|2024-10-29 15:41:42|41.894004024|-87.633075782|\"{'latitude': '41...|             \"\"city\"\": \"\"\"\"|            \"\"state\"\": \"\"\"\"|          \"\"zip\"\": \"\"\"\"}'}\"|                         22|                       4446|                         37|                        670|                         36|                         55|\n",
            "+--------+-----------+-------------------+-------------------+----+--------------------+--------------------+--------------------+------+--------+----+--------+----+--------------+--------+------------+------------+----+-------------------+------------+-------------+--------------------+---------------------------+---------------------------+---------------------------+---------------------------+---------------------------+---------------------------+---------------------------+---------------------------+---------------------------+\n",
            "only showing top 5 rows\n",
            "\n"
          ]
        }
      ]
    },
    {
      "cell_type": "markdown",
      "source": [
        "Change 'Date' column data type"
      ],
      "metadata": {
        "id": "4nJneuQi9xDs"
      }
    },
    {
      "cell_type": "code",
      "source": [
        "# Converting the 'date' column to TimestampType\n",
        "spark_df_cleaned = spark_df_cleaned.withColumn(\"date\", to_timestamp(col(\"date\"), \"MM/dd/yyyy hh:mm:ss a\"))\n",
        "print(f\"After date conversion: {spark_df_cleaned.count()} rows\")\n",
        "spark_df_cleaned.show(5)"
      ],
      "metadata": {
        "colab": {
          "base_uri": "https://localhost:8080/"
        },
        "id": "iOjH-AUA8CyF",
        "outputId": "40136138-160b-472c-d978-050e3c540410"
      },
      "execution_count": 9,
      "outputs": [
        {
          "output_type": "stream",
          "name": "stdout",
          "text": [
            "After date conversion: 976264 rows\n",
            "+--------+-----------+-------------------+-------------------+----+--------------------+--------------------+--------------------+------+--------+----+--------+----+--------------+--------+------------+------------+----+-------------------+------------+-------------+--------------------+---------------------------+---------------------------+---------------------------+---------------------------+---------------------------+---------------------------+---------------------------+---------------------------+---------------------------+\n",
            "|      id|case_number|               date|              block|iucr|        primary_type|         description|location_description|arrest|domestic|beat|district|ward|community_area|fbi_code|x_coordinate|y_coordinate|year|         updated_on|    latitude|    longitude|            location|:@computed_region_awaf_s7ux|:@computed_region_6mkv_f3dw|:@computed_region_vrxf_vc4k|:@computed_region_bdys_3d7i|:@computed_region_43wa_7qmu|:@computed_region_rpca_8um6|:@computed_region_d9mm_jgwp|:@computed_region_d3ds_rm58|:@computed_region_8hcu_yrd4|\n",
            "+--------+-----------+-------------------+-------------------+----+--------------------+--------------------+--------------------+------+--------+----+--------+----+--------------+--------+------------+------------+----+-------------------+------------+-------------+--------------------+---------------------------+---------------------------+---------------------------+---------------------------+---------------------------+---------------------------+---------------------------+---------------------------+---------------------------+\n",
            "|13644109|   JH484519|2024-10-22 00:00:00|    001XX E OHIO ST|0281|CRIMINAL SEXUAL A...|      NON-AGGRAVATED|           RESIDENCE| false|   false|1834|      18|  42|             8|      02|     1177530|     1904238|2024|2024-10-29 15:41:42|41.892559086|-87.623450463|\"{'latitude': '41...|             \"\"city\"\": \"\"\"\"|            \"\"state\"\": \"\"\"\"|          \"\"zip\"\": \"\"\"\"}'}\"|                         22|                      21182|                         37|                        159|                         36|                          6|\n",
            "|13639174|   JH478505|2024-10-22 00:00:00|   023XX W 111TH ST|0430|             BATTERY|AGGRAVATED - OTHE...|           APARTMENT|  true|   false|2212|      22|  19|            75|     04B|     1162760|     1830957|2024|2024-10-29 15:41:42|41.691789124|-87.679740557|\"{'latitude': '41...|             \"\"city\"\": \"\"\"\"|            \"\"state\"\": \"\"\"\"|          \"\"zip\"\": \"\"\"\"}'}\"|                         33|                      22212|                         74|                        378|                         42|                         13|\n",
            "|13639234|   JH478696|2024-10-22 00:00:00|030XX N KOSTNER AVE|0710|               THEFT|THEFT FROM MOTOR ...|VEHICLE NON-COMME...| false|   false|2523|      25|  31|            20|      06|     1146517|     1919929|2024|2024-10-29 15:41:42|41.936264375|-87.736948426|\"{'latitude': '41...|             \"\"city\"\": \"\"\"\"|            \"\"state\"\": \"\"\"\"|          \"\"zip\"\": \"\"\"\"}'}\"|                          7|                      22618|                         21|                        411|                         17|                         21|\n",
            "|13639540|   JH478936|2024-10-22 00:00:00| 117XX S NORMAL AVE|0486|             BATTERY|DOMESTIC BATTERY ...|           RESIDENCE| false|    true| 522|       5|  21|            53|     08B|     1175077|     1827048|2024|2024-10-29 15:41:42|41.680796916|-87.634762525|\"{'latitude': '41...|             \"\"city\"\": \"\"\"\"|            \"\"state\"\": \"\"\"\"|          \"\"zip\"\": \"\"\"\"}'}\"|                         45|                      21861|                         50|                        255|                         22|                         19|\n",
            "|13639740|   JH478909|2024-10-22 00:00:00|    001XX W ERIE ST|0910| MOTOR VEHICLE THEFT|          AUTOMOBILE|              STREET| false|   false|1832|      18|  42|             8|      07|     1174905|     1904743|2024|2024-10-29 15:41:42|41.894004024|-87.633075782|\"{'latitude': '41...|             \"\"city\"\": \"\"\"\"|            \"\"state\"\": \"\"\"\"|          \"\"zip\"\": \"\"\"\"}'}\"|                         22|                       4446|                         37|                        670|                         36|                         55|\n",
            "+--------+-----------+-------------------+-------------------+----+--------------------+--------------------+--------------------+------+--------+----+--------+----+--------------+--------+------------+------------+----+-------------------+------------+-------------+--------------------+---------------------------+---------------------------+---------------------------+---------------------------+---------------------------+---------------------------+---------------------------+---------------------------+---------------------------+\n",
            "only showing top 5 rows\n",
            "\n"
          ]
        }
      ]
    },
    {
      "cell_type": "markdown",
      "source": [
        "FILTERING THE DATASET FOR 10 YEARS"
      ],
      "metadata": {
        "id": "Wk_ONk6E93vW"
      }
    },
    {
      "cell_type": "code",
      "source": [
        "# Range of years in the DataFrame\n",
        "spark_df_cleaned.select(year(col(\"date\")).alias(\"year\")).distinct().show()\n",
        "\n",
        "# Filtering for the last ten years\n",
        "current_year = 2024  # Update based on the current year\n",
        "spark_df_filtered = spark_df_cleaned.filter(year(col(\"date\")) >= (current_year - 10))\n",
        "print(f\"After filtering for last 10 years: {spark_df_filtered.count()} rows\")\n",
        "spark_df_filtered.show(5)"
      ],
      "metadata": {
        "colab": {
          "base_uri": "https://localhost:8080/"
        },
        "id": "PGlvCkKT8P4c",
        "outputId": "ed8f809d-d6dd-4708-a5dd-04a5338dc4b0"
      },
      "execution_count": 10,
      "outputs": [
        {
          "output_type": "stream",
          "name": "stdout",
          "text": [
            "+----+\n",
            "|year|\n",
            "+----+\n",
            "|2023|\n",
            "|2024|\n",
            "|2022|\n",
            "|2020|\n",
            "|2021|\n",
            "+----+\n",
            "\n",
            "After filtering for last 10 years: 976264 rows\n",
            "+--------+-----------+-------------------+-------------------+----+--------------------+--------------------+--------------------+------+--------+----+--------+----+--------------+--------+------------+------------+----+-------------------+------------+-------------+--------------------+---------------------------+---------------------------+---------------------------+---------------------------+---------------------------+---------------------------+---------------------------+---------------------------+---------------------------+\n",
            "|      id|case_number|               date|              block|iucr|        primary_type|         description|location_description|arrest|domestic|beat|district|ward|community_area|fbi_code|x_coordinate|y_coordinate|year|         updated_on|    latitude|    longitude|            location|:@computed_region_awaf_s7ux|:@computed_region_6mkv_f3dw|:@computed_region_vrxf_vc4k|:@computed_region_bdys_3d7i|:@computed_region_43wa_7qmu|:@computed_region_rpca_8um6|:@computed_region_d9mm_jgwp|:@computed_region_d3ds_rm58|:@computed_region_8hcu_yrd4|\n",
            "+--------+-----------+-------------------+-------------------+----+--------------------+--------------------+--------------------+------+--------+----+--------+----+--------------+--------+------------+------------+----+-------------------+------------+-------------+--------------------+---------------------------+---------------------------+---------------------------+---------------------------+---------------------------+---------------------------+---------------------------+---------------------------+---------------------------+\n",
            "|13644109|   JH484519|2024-10-22 00:00:00|    001XX E OHIO ST|0281|CRIMINAL SEXUAL A...|      NON-AGGRAVATED|           RESIDENCE| false|   false|1834|      18|  42|             8|      02|     1177530|     1904238|2024|2024-10-29 15:41:42|41.892559086|-87.623450463|\"{'latitude': '41...|             \"\"city\"\": \"\"\"\"|            \"\"state\"\": \"\"\"\"|          \"\"zip\"\": \"\"\"\"}'}\"|                         22|                      21182|                         37|                        159|                         36|                          6|\n",
            "|13639174|   JH478505|2024-10-22 00:00:00|   023XX W 111TH ST|0430|             BATTERY|AGGRAVATED - OTHE...|           APARTMENT|  true|   false|2212|      22|  19|            75|     04B|     1162760|     1830957|2024|2024-10-29 15:41:42|41.691789124|-87.679740557|\"{'latitude': '41...|             \"\"city\"\": \"\"\"\"|            \"\"state\"\": \"\"\"\"|          \"\"zip\"\": \"\"\"\"}'}\"|                         33|                      22212|                         74|                        378|                         42|                         13|\n",
            "|13639234|   JH478696|2024-10-22 00:00:00|030XX N KOSTNER AVE|0710|               THEFT|THEFT FROM MOTOR ...|VEHICLE NON-COMME...| false|   false|2523|      25|  31|            20|      06|     1146517|     1919929|2024|2024-10-29 15:41:42|41.936264375|-87.736948426|\"{'latitude': '41...|             \"\"city\"\": \"\"\"\"|            \"\"state\"\": \"\"\"\"|          \"\"zip\"\": \"\"\"\"}'}\"|                          7|                      22618|                         21|                        411|                         17|                         21|\n",
            "|13639540|   JH478936|2024-10-22 00:00:00| 117XX S NORMAL AVE|0486|             BATTERY|DOMESTIC BATTERY ...|           RESIDENCE| false|    true| 522|       5|  21|            53|     08B|     1175077|     1827048|2024|2024-10-29 15:41:42|41.680796916|-87.634762525|\"{'latitude': '41...|             \"\"city\"\": \"\"\"\"|            \"\"state\"\": \"\"\"\"|          \"\"zip\"\": \"\"\"\"}'}\"|                         45|                      21861|                         50|                        255|                         22|                         19|\n",
            "|13639740|   JH478909|2024-10-22 00:00:00|    001XX W ERIE ST|0910| MOTOR VEHICLE THEFT|          AUTOMOBILE|              STREET| false|   false|1832|      18|  42|             8|      07|     1174905|     1904743|2024|2024-10-29 15:41:42|41.894004024|-87.633075782|\"{'latitude': '41...|             \"\"city\"\": \"\"\"\"|            \"\"state\"\": \"\"\"\"|          \"\"zip\"\": \"\"\"\"}'}\"|                         22|                       4446|                         37|                        670|                         36|                         55|\n",
            "+--------+-----------+-------------------+-------------------+----+--------------------+--------------------+--------------------+------+--------+----+--------+----+--------------+--------+------------+------------+----+-------------------+------------+-------------+--------------------+---------------------------+---------------------------+---------------------------+---------------------------+---------------------------+---------------------------+---------------------------+---------------------------+---------------------------+\n",
            "only showing top 5 rows\n",
            "\n"
          ]
        }
      ]
    },
    {
      "cell_type": "markdown",
      "source": [
        "REMOVE ALL RECORDS WITH THE FOLLOWING CRIME TYPES:\n",
        "\n",
        "'NON-CRIMINAL (SUBJECT SPECIFIED)',\n",
        "'OTHER OFFENSE',\n",
        "'STALKING',\n",
        "'NON - CRIMINAL',\n",
        "'ARSON'."
      ],
      "metadata": {
        "id": "DlHDBrjq-cgi"
      }
    },
    {
      "cell_type": "code",
      "source": [
        "# Showing unique crime types before filtering\n",
        "spark_df_filtered.select(\"primary_type\").distinct().show(50)  # Adjust number as needed\n",
        "\n",
        "# Excluded crime types\n",
        "excluded_crimes = [\n",
        "    'NON-CRIMINAL (SUBJECT SPECIFIED)',\n",
        "    'OTHER OFFENSE',\n",
        "    'STALKING',\n",
        "    'NON - CRIMINAL',\n",
        "    'ARSON'\n",
        "]\n",
        "\n",
        "# Remove specified crime types\n",
        "spark_df_final = spark_df_filtered.filter(~col(\"primary_type\").isin(excluded_crimes))\n",
        "print(f\"After excluding specific crime types: {spark_df_final.count()} rows\")\n",
        "spark_df_final.show(5)"
      ],
      "metadata": {
        "colab": {
          "base_uri": "https://localhost:8080/"
        },
        "id": "4U4QGJMQF1nE",
        "outputId": "5ef12f6b-5fce-4857-8485-71997e3c3ff8"
      },
      "execution_count": 11,
      "outputs": [
        {
          "output_type": "stream",
          "name": "stdout",
          "text": [
            "+--------------------+\n",
            "|        primary_type|\n",
            "+--------------------+\n",
            "|OFFENSE INVOLVING...|\n",
            "|CRIMINAL SEXUAL A...|\n",
            "|            STALKING|\n",
            "|PUBLIC PEACE VIOL...|\n",
            "|           OBSCENITY|\n",
            "|               ARSON|\n",
            "|            GAMBLING|\n",
            "|   CRIMINAL TRESPASS|\n",
            "|             ASSAULT|\n",
            "|LIQUOR LAW VIOLATION|\n",
            "| MOTOR VEHICLE THEFT|\n",
            "|               THEFT|\n",
            "|             BATTERY|\n",
            "|             ROBBERY|\n",
            "|            HOMICIDE|\n",
            "|    PUBLIC INDECENCY|\n",
            "|   HUMAN TRAFFICKING|\n",
            "|        INTIMIDATION|\n",
            "|        PROSTITUTION|\n",
            "|  DECEPTIVE PRACTICE|\n",
            "|CONCEALED CARRY L...|\n",
            "|         SEX OFFENSE|\n",
            "|     CRIMINAL DAMAGE|\n",
            "|           NARCOTICS|\n",
            "|        NON-CRIMINAL|\n",
            "|       OTHER OFFENSE|\n",
            "|          KIDNAPPING|\n",
            "|            BURGLARY|\n",
            "|   WEAPONS VIOLATION|\n",
            "|OTHER NARCOTIC VI...|\n",
            "|INTERFERENCE WITH...|\n",
            "|           RITUALISM|\n",
            "+--------------------+\n",
            "\n",
            "After excluding specific crime types: 910993 rows\n",
            "+--------+-----------+-------------------+-------------------+----+--------------------+--------------------+--------------------+------+--------+----+--------+----+--------------+--------+------------+------------+----+-------------------+------------+-------------+--------------------+---------------------------+---------------------------+---------------------------+---------------------------+---------------------------+---------------------------+---------------------------+---------------------------+---------------------------+\n",
            "|      id|case_number|               date|              block|iucr|        primary_type|         description|location_description|arrest|domestic|beat|district|ward|community_area|fbi_code|x_coordinate|y_coordinate|year|         updated_on|    latitude|    longitude|            location|:@computed_region_awaf_s7ux|:@computed_region_6mkv_f3dw|:@computed_region_vrxf_vc4k|:@computed_region_bdys_3d7i|:@computed_region_43wa_7qmu|:@computed_region_rpca_8um6|:@computed_region_d9mm_jgwp|:@computed_region_d3ds_rm58|:@computed_region_8hcu_yrd4|\n",
            "+--------+-----------+-------------------+-------------------+----+--------------------+--------------------+--------------------+------+--------+----+--------+----+--------------+--------+------------+------------+----+-------------------+------------+-------------+--------------------+---------------------------+---------------------------+---------------------------+---------------------------+---------------------------+---------------------------+---------------------------+---------------------------+---------------------------+\n",
            "|13644109|   JH484519|2024-10-22 00:00:00|    001XX E OHIO ST|0281|CRIMINAL SEXUAL A...|      NON-AGGRAVATED|           RESIDENCE| false|   false|1834|      18|  42|             8|      02|     1177530|     1904238|2024|2024-10-29 15:41:42|41.892559086|-87.623450463|\"{'latitude': '41...|             \"\"city\"\": \"\"\"\"|            \"\"state\"\": \"\"\"\"|          \"\"zip\"\": \"\"\"\"}'}\"|                         22|                      21182|                         37|                        159|                         36|                          6|\n",
            "|13639174|   JH478505|2024-10-22 00:00:00|   023XX W 111TH ST|0430|             BATTERY|AGGRAVATED - OTHE...|           APARTMENT|  true|   false|2212|      22|  19|            75|     04B|     1162760|     1830957|2024|2024-10-29 15:41:42|41.691789124|-87.679740557|\"{'latitude': '41...|             \"\"city\"\": \"\"\"\"|            \"\"state\"\": \"\"\"\"|          \"\"zip\"\": \"\"\"\"}'}\"|                         33|                      22212|                         74|                        378|                         42|                         13|\n",
            "|13639234|   JH478696|2024-10-22 00:00:00|030XX N KOSTNER AVE|0710|               THEFT|THEFT FROM MOTOR ...|VEHICLE NON-COMME...| false|   false|2523|      25|  31|            20|      06|     1146517|     1919929|2024|2024-10-29 15:41:42|41.936264375|-87.736948426|\"{'latitude': '41...|             \"\"city\"\": \"\"\"\"|            \"\"state\"\": \"\"\"\"|          \"\"zip\"\": \"\"\"\"}'}\"|                          7|                      22618|                         21|                        411|                         17|                         21|\n",
            "|13639540|   JH478936|2024-10-22 00:00:00| 117XX S NORMAL AVE|0486|             BATTERY|DOMESTIC BATTERY ...|           RESIDENCE| false|    true| 522|       5|  21|            53|     08B|     1175077|     1827048|2024|2024-10-29 15:41:42|41.680796916|-87.634762525|\"{'latitude': '41...|             \"\"city\"\": \"\"\"\"|            \"\"state\"\": \"\"\"\"|          \"\"zip\"\": \"\"\"\"}'}\"|                         45|                      21861|                         50|                        255|                         22|                         19|\n",
            "|13639740|   JH478909|2024-10-22 00:00:00|    001XX W ERIE ST|0910| MOTOR VEHICLE THEFT|          AUTOMOBILE|              STREET| false|   false|1832|      18|  42|             8|      07|     1174905|     1904743|2024|2024-10-29 15:41:42|41.894004024|-87.633075782|\"{'latitude': '41...|             \"\"city\"\": \"\"\"\"|            \"\"state\"\": \"\"\"\"|          \"\"zip\"\": \"\"\"\"}'}\"|                         22|                       4446|                         37|                        670|                         36|                         55|\n",
            "+--------+-----------+-------------------+-------------------+----+--------------------+--------------------+--------------------+------+--------+----+--------+----+--------------+--------+------------+------------+----+-------------------+------------+-------------+--------------------+---------------------------+---------------------------+---------------------------+---------------------------+---------------------------+---------------------------+---------------------------+---------------------------+---------------------------+\n",
            "only showing top 5 rows\n",
            "\n"
          ]
        }
      ]
    },
    {
      "cell_type": "markdown",
      "source": [
        "MERGE THE SIMILAR CRIME TYPES."
      ],
      "metadata": {
        "id": "xW9m_aSw-yLz"
      }
    },
    {
      "cell_type": "code",
      "source": [
        "# Merging some similar crime types\n",
        "spark_df_final = spark_df_final.withColumn(\n",
        "    \"primary_type\",\n",
        "    when(col(\"primary_type\").isin([\"SEX OFFENSE\", \"PROSTITUTION\"]), \"SEXUAL CRIMES\")\n",
        "    .when(col(\"primary_type\").isin([\"BURGLARY\", \"THEFT\", \"MOTOR VEHICLE THEFT\", \"CRIMINAL DAMAGE\"]), \"PROPERTY CRIMES\")\n",
        "    .when(col(\"primary_type\").isin([\"NARCOTICS\", \"OTHER NARCOTIC VIOLATION\", \"LIQUOR LAW VIOLATION\"]), \"DRUG/ALCOHOL RELATED\")\n",
        "    .otherwise(col(\"primary_type\"))\n",
        ")\n",
        "\n",
        "print(f\"After merging crime types: {spark_df_final.count()} rows\")\n",
        "spark_df_final.show(5)\n"
      ],
      "metadata": {
        "colab": {
          "base_uri": "https://localhost:8080/"
        },
        "id": "_ydqGKwl8P-K",
        "outputId": "c2ed4164-85a5-4eec-ed6e-d3ed699ac882"
      },
      "execution_count": 12,
      "outputs": [
        {
          "output_type": "stream",
          "name": "stdout",
          "text": [
            "After merging crime types: 910993 rows\n",
            "+--------+-----------+-------------------+-------------------+----+--------------------+--------------------+--------------------+------+--------+----+--------+----+--------------+--------+------------+------------+----+-------------------+------------+-------------+--------------------+---------------------------+---------------------------+---------------------------+---------------------------+---------------------------+---------------------------+---------------------------+---------------------------+---------------------------+\n",
            "|      id|case_number|               date|              block|iucr|        primary_type|         description|location_description|arrest|domestic|beat|district|ward|community_area|fbi_code|x_coordinate|y_coordinate|year|         updated_on|    latitude|    longitude|            location|:@computed_region_awaf_s7ux|:@computed_region_6mkv_f3dw|:@computed_region_vrxf_vc4k|:@computed_region_bdys_3d7i|:@computed_region_43wa_7qmu|:@computed_region_rpca_8um6|:@computed_region_d9mm_jgwp|:@computed_region_d3ds_rm58|:@computed_region_8hcu_yrd4|\n",
            "+--------+-----------+-------------------+-------------------+----+--------------------+--------------------+--------------------+------+--------+----+--------+----+--------------+--------+------------+------------+----+-------------------+------------+-------------+--------------------+---------------------------+---------------------------+---------------------------+---------------------------+---------------------------+---------------------------+---------------------------+---------------------------+---------------------------+\n",
            "|13644109|   JH484519|2024-10-22 00:00:00|    001XX E OHIO ST|0281|CRIMINAL SEXUAL A...|      NON-AGGRAVATED|           RESIDENCE| false|   false|1834|      18|  42|             8|      02|     1177530|     1904238|2024|2024-10-29 15:41:42|41.892559086|-87.623450463|\"{'latitude': '41...|             \"\"city\"\": \"\"\"\"|            \"\"state\"\": \"\"\"\"|          \"\"zip\"\": \"\"\"\"}'}\"|                         22|                      21182|                         37|                        159|                         36|                          6|\n",
            "|13639174|   JH478505|2024-10-22 00:00:00|   023XX W 111TH ST|0430|             BATTERY|AGGRAVATED - OTHE...|           APARTMENT|  true|   false|2212|      22|  19|            75|     04B|     1162760|     1830957|2024|2024-10-29 15:41:42|41.691789124|-87.679740557|\"{'latitude': '41...|             \"\"city\"\": \"\"\"\"|            \"\"state\"\": \"\"\"\"|          \"\"zip\"\": \"\"\"\"}'}\"|                         33|                      22212|                         74|                        378|                         42|                         13|\n",
            "|13639234|   JH478696|2024-10-22 00:00:00|030XX N KOSTNER AVE|0710|     PROPERTY CRIMES|THEFT FROM MOTOR ...|VEHICLE NON-COMME...| false|   false|2523|      25|  31|            20|      06|     1146517|     1919929|2024|2024-10-29 15:41:42|41.936264375|-87.736948426|\"{'latitude': '41...|             \"\"city\"\": \"\"\"\"|            \"\"state\"\": \"\"\"\"|          \"\"zip\"\": \"\"\"\"}'}\"|                          7|                      22618|                         21|                        411|                         17|                         21|\n",
            "|13639540|   JH478936|2024-10-22 00:00:00| 117XX S NORMAL AVE|0486|             BATTERY|DOMESTIC BATTERY ...|           RESIDENCE| false|    true| 522|       5|  21|            53|     08B|     1175077|     1827048|2024|2024-10-29 15:41:42|41.680796916|-87.634762525|\"{'latitude': '41...|             \"\"city\"\": \"\"\"\"|            \"\"state\"\": \"\"\"\"|          \"\"zip\"\": \"\"\"\"}'}\"|                         45|                      21861|                         50|                        255|                         22|                         19|\n",
            "|13639740|   JH478909|2024-10-22 00:00:00|    001XX W ERIE ST|0910|     PROPERTY CRIMES|          AUTOMOBILE|              STREET| false|   false|1832|      18|  42|             8|      07|     1174905|     1904743|2024|2024-10-29 15:41:42|41.894004024|-87.633075782|\"{'latitude': '41...|             \"\"city\"\": \"\"\"\"|            \"\"state\"\": \"\"\"\"|          \"\"zip\"\": \"\"\"\"}'}\"|                         22|                       4446|                         37|                        670|                         36|                         55|\n",
            "+--------+-----------+-------------------+-------------------+----+--------------------+--------------------+--------------------+------+--------+----+--------+----+--------------+--------+------------+------------+----+-------------------+------------+-------------+--------------------+---------------------------+---------------------------+---------------------------+---------------------------+---------------------------+---------------------------+---------------------------+---------------------------+---------------------------+\n",
            "only showing top 5 rows\n",
            "\n"
          ]
        }
      ]
    },
    {
      "cell_type": "markdown",
      "source": [
        "**DATA** **ANALYSIS**"
      ],
      "metadata": {
        "id": "toeoFU4x-6On"
      }
    },
    {
      "cell_type": "markdown",
      "source": [
        "a. Show year-wise trend of the crime for last ten years."
      ],
      "metadata": {
        "id": "DI3YT8VU--9i"
      }
    },
    {
      "cell_type": "code",
      "source": [
        "# Year-wise trend of crime\n",
        "year_wise_trend = spark_df_final.groupBy(year(col(\"date\")).alias(\"year\")).count().orderBy(\"year\")\n",
        "year_wise_trend.show()"
      ],
      "metadata": {
        "colab": {
          "base_uri": "https://localhost:8080/"
        },
        "id": "y1GvMXRZ9U8H",
        "outputId": "f4822f77-e881-402f-a2e9-9e1a27c8c13e"
      },
      "execution_count": 13,
      "outputs": [
        {
          "output_type": "stream",
          "name": "stdout",
          "text": [
            "+----+------+\n",
            "|year| count|\n",
            "+----+------+\n",
            "|2020| 71208|\n",
            "|2021|186660|\n",
            "|2022|217831|\n",
            "|2023|242414|\n",
            "|2024|192880|\n",
            "+----+------+\n",
            "\n"
          ]
        }
      ]
    },
    {
      "cell_type": "markdown",
      "source": [
        "b. Find out at which hour of the day crime is highest."
      ],
      "metadata": {
        "id": "fIgFcQnA_Clq"
      }
    },
    {
      "cell_type": "code",
      "source": [
        "# Find out which hour has the most crimes\n",
        "hour_wise_crime = spark_df_final.withColumn(\"hour\", hour(col(\"date\"))) \\\n",
        "    .groupBy(\"hour\").count().orderBy(\"count\", ascending=False)\n",
        "hour_wise_crime.show(1)"
      ],
      "metadata": {
        "colab": {
          "base_uri": "https://localhost:8080/"
        },
        "id": "2ikqNqTF9bzz",
        "outputId": "9ec9d54c-916b-45d8-a822-b0349ef30c15"
      },
      "execution_count": 14,
      "outputs": [
        {
          "output_type": "stream",
          "name": "stdout",
          "text": [
            "+----+-----+\n",
            "|hour|count|\n",
            "+----+-----+\n",
            "|   0|65080|\n",
            "+----+-----+\n",
            "only showing top 1 row\n",
            "\n"
          ]
        }
      ]
    },
    {
      "cell_type": "markdown",
      "source": [
        "c. Find top ten crimes and present them as a bar chart."
      ],
      "metadata": {
        "id": "1rcm-XRN_Jv8"
      }
    },
    {
      "cell_type": "code",
      "source": [
        "# Top ten crimes\n",
        "top_ten_crimes = spark_df_final.groupBy(\"primary_type\").count().orderBy(\"count\", ascending=False).limit(10)\n",
        "top_ten_crimes.show()"
      ],
      "metadata": {
        "colab": {
          "base_uri": "https://localhost:8080/"
        },
        "id": "YE2bhFCh9s1u",
        "outputId": "d01a6a17-9142-4b21-e002-8e41db505188"
      },
      "execution_count": 15,
      "outputs": [
        {
          "output_type": "stream",
          "name": "stdout",
          "text": [
            "+--------------------+------+\n",
            "|        primary_type| count|\n",
            "+--------------------+------+\n",
            "|     PROPERTY CRIMES|439073|\n",
            "|             BATTERY|176368|\n",
            "|             ASSAULT| 89079|\n",
            "|  DECEPTIVE PRACTICE| 63669|\n",
            "|             ROBBERY| 38368|\n",
            "|   WEAPONS VIOLATION| 36567|\n",
            "|DRUG/ALCOHOL RELATED| 20963|\n",
            "|   CRIMINAL TRESPASS| 17518|\n",
            "|OFFENSE INVOLVING...|  7178|\n",
            "|CRIMINAL SEXUAL A...|  6110|\n",
            "+--------------------+------+\n",
            "\n"
          ]
        }
      ]
    },
    {
      "cell_type": "code",
      "source": [
        "# Converting the top ten crimes Spark DataFrame to Pandas DataFrame\n",
        "top_ten_crimes_pd = top_ten_crimes.toPandas()"
      ],
      "metadata": {
        "id": "aaUlgznh98Ge"
      },
      "execution_count": 16,
      "outputs": []
    },
    {
      "cell_type": "code",
      "source": [
        "# Plotting the top 10 crimes\n",
        "plt.figure(figsize=(12, 6))\n",
        "plt.barh(top_ten_crimes_pd['primary_type'], top_ten_crimes_pd['count'], color='green')\n",
        "plt.xlabel('Number of Crimes')\n",
        "plt.ylabel('Crime Type')\n",
        "plt.title('Top Ten Crimes in Chicago')\n",
        "plt.gca().invert_yaxis()\n",
        "plt.show()"
      ],
      "metadata": {
        "colab": {
          "base_uri": "https://localhost:8080/",
          "height": 564
        },
        "id": "8tOeI0wreeRl",
        "outputId": "36f79bcd-175b-4edd-ffcf-b8cc000d88e5"
      },
      "execution_count": 19,
      "outputs": [
        {
          "output_type": "display_data",
          "data": {
            "text/plain": [
              "<Figure size 1200x600 with 1 Axes>"
            ],
            "image/png": "[encoded data removed]"
          },
          "metadata": {}
        }
      ]
    },
    {
      "cell_type": "code",
      "source": [],
      "metadata": {
        "id": "4KKFKUWAMayL"
      },
      "execution_count": null,
      "outputs": []
    }
  ]
}