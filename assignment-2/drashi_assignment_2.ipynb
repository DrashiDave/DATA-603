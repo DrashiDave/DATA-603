{
 "cells": [
  {
   "cell_type": "markdown",
   "metadata": {
    "id": "bYMvWILoMeyg"
   },
   "source": [
    "# MapReduce Assignment\n"
   ]
  },
  {
   "cell_type": "markdown",
   "metadata": {
    "id": "Jy02T5Y5NCl4"
   },
   "source": [
    "### Extracrting files from big pdf to `file1.txt` and `file2.txt`\n",
    "\n",
    "\n",
    "Birthdate 07/14/2001 \n",
    "\n",
    "Target book : `Harry Potter and the Deathly Hallows – J.K. Rowling`\n",
    "\n",
    "Pages for file1 : `5966` to `5983` (pages 15 to 24 of the book)\n",
    "\n",
    "Pages for file2 : `6104` to `6120` (pages 102 to 111 of the book)"
   ]
  },
  {
   "cell_type": "code",
   "execution_count": 2,
   "metadata": {
    "colab": {
     "base_uri": "https://localhost:8080/"
    },
    "id": "LnMz-qwgNBYt",
    "outputId": "5ed6ddbc-8db2-463c-8dcf-b40e6c98853d"
   },
   "outputs": [
    {
     "name": "stdout",
     "output_type": "stream",
     "text": [
      "Defaulting to user installation because normal site-packages is not writeable\n",
      "Requirement already satisfied: pypdf in /Users/drashi/Library/Python/3.9/lib/python/site-packages (5.0.1)\n",
      "Requirement already satisfied: typing_extensions>=4.0 in /Users/drashi/Library/Python/3.9/lib/python/site-packages (from pypdf) (4.12.2)\n",
      "\u001b[33mWARNING: You are using pip version 21.2.4; however, version 24.2 is available.\n",
      "You should consider upgrading via the '/Library/Developer/CommandLineTools/usr/bin/python3 -m pip install --upgrade pip' command.\u001b[0m\n"
     ]
    }
   ],
   "source": [
    "!pip3 install pypdf"
   ]
  },
  {
   "cell_type": "code",
   "execution_count": 3,
   "metadata": {
    "id": "Z8NtctAjMXQR"
   },
   "outputs": [],
   "source": [
    "from pypdf import PdfReader"
   ]
  },
  {
   "cell_type": "markdown",
   "metadata": {},
   "source": [
    "Creating function to filter required pages for file1 and file2 from whole pdf"
   ]
  },
  {
   "cell_type": "code",
   "execution_count": 4,
   "metadata": {},
   "outputs": [],
   "source": [
    "def generate_files(pdf, f1_start, f1_end, f2_start, f2_end):\n",
    "    reader = PdfReader(pdf)\n",
    "    f1 = reader.pages[f1_start:f1_end] \n",
    "    f2 = reader.pages[f2_start:f2_end]\n",
    "    return f1,f2\n"
   ]
  },
  {
   "cell_type": "code",
   "execution_count": 5,
   "metadata": {
    "id": "udSfnKlUMhCE"
   },
   "outputs": [],
   "source": [
    "f1,f2 = generate_files('Harry_Potter_(www.ztcprep.com).pdf', 5966,5983,6104,9120)"
   ]
  },
  {
   "cell_type": "markdown",
   "metadata": {},
   "source": [
    "Creating file1 and file2 from obtained pages"
   ]
  },
  {
   "cell_type": "code",
   "execution_count": 6,
   "metadata": {
    "id": "Um11fTvgN6S1"
   },
   "outputs": [],
   "source": [
    "def generate_txt_files(mapping):\n",
    "    for filename in mapping:\n",
    "      with open(filename,\"w\") as file:\n",
    "        file.write(' '.join([page.extract_text() for page in mapping[filename]]))\n",
    "        print(f\"Created file: {filename}\")"
   ]
  },
  {
   "cell_type": "code",
   "execution_count": 7,
   "metadata": {},
   "outputs": [
    {
     "name": "stdout",
     "output_type": "stream",
     "text": [
      "Created file: file1.txt\n",
      "Created file: file2.txt\n"
     ]
    }
   ],
   "source": [
    "generate_txt_files({'file1.txt' : f1, 'file2.txt' : f2})"
   ]
  },
  {
   "cell_type": "markdown",
   "metadata": {},
   "source": [
    "##### Now installing required libraries"
   ]
  },
  {
   "cell_type": "code",
   "execution_count": 8,
   "metadata": {
    "colab": {
     "base_uri": "https://localhost:8080/"
    },
    "id": "FbFlucw10vMs",
    "outputId": "e5e36a71-db53-4fa9-d7d0-10b7b1682543"
   },
   "outputs": [
    {
     "name": "stdout",
     "output_type": "stream",
     "text": [
      "Defaulting to user installation because normal site-packages is not writeable\n",
      "Collecting mrjob\n",
      "  Downloading mrjob-0.7.4-py2.py3-none-any.whl (439 kB)\n",
      "\u001b[K     |████████████████████████████████| 439 kB 8.8 MB/s eta 0:00:01\n",
      "\u001b[?25hCollecting pyenchant\n",
      "  Downloading pyenchant-3.2.2-py3-none-any.whl (55 kB)\n",
      "\u001b[K     |████████████████████████████████| 55 kB 12.0 MB/s eta 0:00:01\n",
      "\u001b[?25hCollecting PyYAML>=3.10\n",
      "  Downloading PyYAML-6.0.2-cp39-cp39-macosx_11_0_arm64.whl (172 kB)\n",
      "\u001b[K     |████████████████████████████████| 172 kB 23.4 MB/s eta 0:00:01\n",
      "\u001b[?25hInstalling collected packages: PyYAML, pyenchant, mrjob\n",
      "Successfully installed PyYAML-6.0.2 mrjob-0.7.4 pyenchant-3.2.2\n",
      "\u001b[33mWARNING: You are using pip version 21.2.4; however, version 24.2 is available.\n",
      "You should consider upgrading via the '/Library/Developer/CommandLineTools/usr/bin/python3 -m pip install --upgrade pip' command.\u001b[0m\n"
     ]
    }
   ],
   "source": [
    "!pip3 install mrjob pyenchant"
   ]
  },
  {
   "cell_type": "markdown",
   "metadata": {
    "id": "l8ALwvB9TzhC"
   },
   "source": [
    "#### PART 1 - Word count"
   ]
  },
  {
   "cell_type": "markdown",
   "metadata": {},
   "source": [
    "Creating a MapReduce job to count occurences of each word"
   ]
  },
  {
   "cell_type": "code",
   "execution_count": 9,
   "metadata": {
    "colab": {
     "base_uri": "https://localhost:8080/"
    },
    "id": "_9ku62fWRAnA",
    "outputId": "59e98250-4a6a-423c-a569-5a7f94ee5bbd"
   },
   "outputs": [
    {
     "name": "stdout",
     "output_type": "stream",
     "text": [
      "Overwriting count_words.py\n"
     ]
    }
   ],
   "source": [
    "%%file count_words.py\n",
    "from mrjob.job import MRJob\n",
    "import re\n",
    "\n",
    "class CountWords(MRJob):\n",
    "    def mapper(self, _, line):\n",
    "        words = self.tokenize(line)\n",
    "        for word in words:\n",
    "            if word and len(word) > 0:\n",
    "                yield (word, 1)\n",
    "\n",
    "    def reducer(self, word, counts):\n",
    "        total_count = sum(counts)\n",
    "        yield (word, total_count)\n",
    "\n",
    "    def tokenize(self, line):\n",
    "        return re.findall(r'\\b[a-z]+\\b', line.lower())\n",
    "\n",
    "if __name__ == '__main__':\n",
    "    CountWords.run()"
   ]
  },
  {
   "cell_type": "markdown",
   "metadata": {},
   "source": [
    "Running the job"
   ]
  },
  {
   "cell_type": "code",
   "execution_count": 10,
   "metadata": {
    "id": "WnvDK0tR0b1x"
   },
   "outputs": [
    {
     "name": "stdout",
     "output_type": "stream",
     "text": [
      "No configs found; falling back on auto-configuration\n",
      "No configs specified for inline runner\n",
      "Creating temp directory /var/folders/t7/042v1y015bl6hfs4h8xjqgqr0000gn/T/count_words.drashi.20241003.230457.894507\n",
      "Running step 1 of 1...\n",
      "job output is in /var/folders/t7/042v1y015bl6hfs4h8xjqgqr0000gn/T/count_words.drashi.20241003.230457.894507/output\n",
      "Streaming final output from /var/folders/t7/042v1y015bl6hfs4h8xjqgqr0000gn/T/count_words.drashi.20241003.230457.894507/output...\n",
      "Removing temp directory /var/folders/t7/042v1y015bl6hfs4h8xjqgqr0000gn/T/count_words.drashi.20241003.230457.894507...\n"
     ]
    }
   ],
   "source": [
    "!python3 count_words.py file1.txt > file1_output.txt"
   ]
  },
  {
   "cell_type": "markdown",
   "metadata": {},
   "source": [
    "#### PART 2 - Non English Word Frequency"
   ]
  },
  {
   "cell_type": "markdown",
   "metadata": {},
   "source": [
    "Creating a MapReduce job to count only valid words"
   ]
  },
  {
   "cell_type": "code",
   "execution_count": 11,
   "metadata": {},
   "outputs": [
    {
     "name": "stdout",
     "output_type": "stream",
     "text": [
      "Overwriting invalid_word_frequency_analyzer.py\n"
     ]
    }
   ],
   "source": [
    "%%file invalid_word_frequency_analyzer.py\n",
    "from mrjob.job import MRJob\n",
    "import re\n",
    "import enchant\n",
    "\n",
    "class InvalidWordFrequencyAnalyzer(MRJob):\n",
    "\n",
    "    def __init__(self, *args, **kwargs):\n",
    "        super(InvalidWordFrequencyAnalyzer, self).__init__(*args, **kwargs)\n",
    "        self.english_dict = enchant.Dict(\"en_US\")\n",
    "\n",
    "    def mapper(self, _, line):\n",
    "        words = self.tokenize(line.lower())\n",
    "        for word in words:\n",
    "            if self.is_valid_word(word):\n",
    "                yield (word, 1)\n",
    "\n",
    "    def reducer(self, word, counts):\n",
    "        yield (word, sum(counts))\n",
    "\n",
    "    def tokenize(self, text):\n",
    "        return re.findall(r'\\b\\w+\\b', text)\n",
    "\n",
    "    def is_valid_word(self, word):\n",
    "        return len(word) > 1 and not self.english_dict.check(word)\n",
    "\n",
    "if __name__ == '__main__':\n",
    "    InvalidWordFrequencyAnalyzer.run()"
   ]
  },
  {
   "cell_type": "markdown",
   "metadata": {},
   "source": [
    "Running job"
   ]
  },
  {
   "cell_type": "code",
   "execution_count": 12,
   "metadata": {},
   "outputs": [
    {
     "name": "stdout",
     "output_type": "stream",
     "text": [
      "Traceback (most recent call last):\n",
      "  File \"/Users/drashi/Documents/GitHub/DATA-603/assignment-2/invalid_word_frequency_analyzer.py\", line 3, in <module>\n",
      "    import enchant\n",
      "  File \"/Users/drashi/Library/Python/3.9/lib/python/site-packages/enchant/__init__.py\", line 81, in <module>\n",
      "    from enchant import _enchant as _e\n",
      "  File \"/Users/drashi/Library/Python/3.9/lib/python/site-packages/enchant/_enchant.py\", line 157, in <module>\n",
      "    raise ImportError(msg)\n",
      "ImportError: The 'enchant' C library was not found and maybe needs to be installed.\n",
      "See  https://pyenchant.github.io/pyenchant/install.html\n",
      "for details\n",
      "\n"
     ]
    }
   ],
   "source": [
    "!python3 invalid_word_frequency_analyzer.py file2.txt > file2_output.txt"
   ]
  }
 ],
 "metadata": {
  "colab": {
   "provenance": []
  },
  "kernelspec": {
   "display_name": "Python 3",
   "language": "python",
   "name": "python3"
  },
  "language_info": {
   "codemirror_mode": {
    "name": "ipython",
    "version": 3
   },
   "file_extension": ".py",
   "mimetype": "text/x-python",
   "name": "python",
   "nbconvert_exporter": "python",
   "pygments_lexer": "ipython3",
   "version": "3.9.6"
  }
 },
 "nbformat": 4,
 "nbformat_minor": 4
}
